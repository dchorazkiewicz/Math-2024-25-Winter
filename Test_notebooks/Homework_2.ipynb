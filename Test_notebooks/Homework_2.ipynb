{
  "nbformat": 4,
  "nbformat_minor": 0,
  "metadata": {
    "colab": {
      "provenance": [],
      "authorship_tag": "ABX9TyNjCv3n8GaZMAvFidrazyzd",
      "include_colab_link": true
    },
    "kernelspec": {
      "name": "python3",
      "display_name": "Python 3"
    },
    "language_info": {
      "name": "python"
    }
  },
  "cells": [
    {
      "cell_type": "markdown",
      "metadata": {
        "id": "view-in-github",
        "colab_type": "text"
      },
      "source": [
        "<a href=\"https://colab.research.google.com/github/Erencan2005/Math-2024-25-Winter/blob/main/Test_notebooks/Homework_2.ipynb\" target=\"_parent\"><img src=\"https://colab.research.google.com/assets/colab-badge.svg\" alt=\"Open In Colab\"/></a>"
      ]
    },
    {
      "cell_type": "markdown",
      "source": [
        "## 2. Determinants 2x2 and 3x3\n",
        "\n",
        "Calculate the determinants for the 2x2 and 3x3 matrices given below.\n",
        "\n",
        "2x2 Matrices:\n",
        "\n",
        "$$\n",
        "\\mathbf{A} =\n",
        "\\begin{pmatrix}\n",
        "2 & 3 \\\\\n",
        "1 & 4\n",
        "\\end{pmatrix}\n",
        ", \\qquad\n",
        "\\mathbf{B} =\n",
        "\\begin{pmatrix}\n",
        "5 & 6 \\\\\n",
        "7 & 8\n",
        "\\end{pmatrix}\n",
        ", \\qquad\n",
        "\\mathbf{C} =\n",
        "\\begin{pmatrix}\n",
        "-1 & 2 \\\\\n",
        "3 & 0\n",
        "\\end{pmatrix}\n",
        "$$\n",
        "\n",
        "3x3 Matrices:\n",
        "\n",
        "$$\n",
        "\\mathbf{D} =\n",
        "\\begin{pmatrix}\n",
        "1 & 0 & 2 \\\\\n",
        "-1 & 3 & 1 \\\\\n",
        "2 & 4 & -2\n",
        "\\end{pmatrix}\n",
        ", \\qquad\n",
        "\\mathbf{E} =\n",
        "\\begin{pmatrix}\n",
        "3 & 1 & -1 \\\\\n",
        "0 & 2 & 4 \\\\\n",
        "5 & 3 & 2\n",
        "\\end{pmatrix}\n",
        ", \\qquad\n",
        "\\mathbf{F} =\n",
        "\\begin{pmatrix}\n",
        "2 & -3 & 1 \\\\\n",
        "1 & 4 & -2 \\\\\n",
        "1 & 5 & 3\n",
        "\\end{pmatrix}\n",
        "$$\n"
      ],
      "metadata": {
        "id": "MD46pLNU8yhC"
      }
    },
    {
      "cell_type": "markdown",
      "source": [
        "## 2. Determinants 2x2 and 3x3\n",
        "\n",
        "### Determinants of 2x2 Matrices\n",
        "\n",
        "1. For $\\mathbf{A} = \\begin{pmatrix} 2 & 3 \\\\ 1 & 4 \\end{pmatrix}$:\n",
        "$$\n",
        "\\text{det}(\\mathbf{A}) = (2)(4) - (3)(1) = 5\n",
        "$$\n",
        "\n",
        "2. For $\\mathbf{B} = \\begin{pmatrix} 5 & 6 \\\\ 7 & 8 \\end{pmatrix}$:\n",
        "$$\n",
        "\\text{det}(\\mathbf{B}) = (5)(8) - (6)(7) = -2\n",
        "$$\n",
        "\n",
        "3. For $\\mathbf{C} = \\begin{pmatrix} -1 & 2 \\\\ 3 & 0 \\end{pmatrix}$:\n",
        "$$\n",
        "\\text{det}(\\mathbf{C}) = (-1)(0) - (2)(3) = -6\n",
        "$$\n",
        "\n",
        "### Determinants of 3x3 Matrices\n",
        "\n",
        "1. For $\\mathbf{D} = \\begin{pmatrix} 1 & 0 & 2 \\\\ -1 & 3 & 1 \\\\ 2 & 4 & -2 \\end{pmatrix}$:\n",
        "$$\n",
        "\\text{det}(\\mathbf{D}) = -30\n",
        "$$\n",
        "\n",
        "2. For $\\mathbf{E} = \\begin{pmatrix} 3 & 1 & -1 \\\\ 0 & 2 & 4 \\\\ 5 & 3 & 2 \\end{pmatrix}$:\n",
        "$$\n",
        "\\text{det}(\\mathbf{E}) = 6\n",
        "$$\n",
        "\n",
        "3. For $\\mathbf{F} = \\begin{pmatrix} 2 & -3 & 1 \\\\ 1 & 4 & -2 \\\\ 1 & 5 & 3 \\end{pmatrix}$:\n",
        "$$\n",
        "\\text{det}(\\mathbf{F}) = 60\n",
        "$$\n"
      ],
      "metadata": {
        "id": "64efjZl6847k"
      }
    }
  ]
}