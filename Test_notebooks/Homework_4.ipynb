{
  "nbformat": 4,
  "nbformat_minor": 0,
  "metadata": {
    "colab": {
      "provenance": [],
      "authorship_tag": "ABX9TyPLyf5T8slAuQwQtaGrh7mB",
      "include_colab_link": true
    },
    "kernelspec": {
      "name": "python3",
      "display_name": "Python 3"
    },
    "language_info": {
      "name": "python"
    }
  },
  "cells": [
    {
      "cell_type": "markdown",
      "metadata": {
        "id": "view-in-github",
        "colab_type": "text"
      },
      "source": [
        "<a href=\"https://colab.research.google.com/github/Erencan2005/Math-2024-25-Winter/blob/main/Test_notebooks/Homework_4.ipynb\" target=\"_parent\"><img src=\"https://colab.research.google.com/assets/colab-badge.svg\" alt=\"Open In Colab\"/></a>"
      ]
    },
    {
      "cell_type": "markdown",
      "source": [
        "## 4. Determinants from the Gauss Method and Triangular Matrices"
      ],
      "metadata": {
        "id": "m7EgJ06dAk_d"
      }
    },
    {
      "cell_type": "markdown",
      "source": [
        "\n",
        "\n",
        "To calculate the determinants using row reduction and the product of diagonal elements of the resulting upper triangular matrix:\n",
        "\n",
        "### Matrix A:\n",
        "$$\n",
        "\\mathbf{A} =\n",
        "\\begin{pmatrix}\n",
        "12 & 3 \\\\\n",
        "-18 & -4\n",
        "\\end{pmatrix}\n",
        "$$\n",
        "\n",
        "1. Perform row operations to reduce to upper triangular form:\n",
        "   - Multiply the first row by $\\frac{1}{12}$ to simplify $A_{11}$ to 1:\n",
        "     $$ R_1 \\to \\frac{R_1}{12}, \\quad \\mathbf{A} =\n",
        "     \\begin{pmatrix}\n",
        "     1 & \\frac{1}{4} \\\\\n",
        "     -18 & -4\n",
        "     \\end{pmatrix}.\n",
        "     $$\n",
        "\n",
        "   - Eliminate the first element of the second row by performing the operation $R_2 \\to R_2 + 18R_1$:\n",
        "     $$ \\mathbf{A} =\n",
        "     \\begin{pmatrix}\n",
        "     1 & \\frac{1}{4} \\\\\n",
        "     0 & \\frac{1}{2}\n",
        "     \\end{pmatrix}.\n",
        "     $$\n",
        "\n",
        "2. The matrix is now in upper triangular form. The determinant is the product of the diagonal elements:\n",
        "   $$ \\text{det}(\\mathbf{A}) = 1 \\cdot \\frac{1}{2} = \\frac{1}{2}. $$\n",
        "\n",
        "### Matrix B:\n",
        "$$\n",
        "\\mathbf{B} =\n",
        "\\begin{pmatrix}\n",
        "1 & 2 & 3 \\\\\n",
        "4 & 5 & 6 \\\\\n",
        "7 & 8 & 9\n",
        "\\end{pmatrix}\n",
        "$$\n",
        "\n",
        "1. Perform row operations to reduce to upper triangular form:\n",
        "   - Subtract 4 times the first row from the second row ($R_2 \\to R_2 - 4R_1$):\n",
        "     $$ \\mathbf{B} =\n",
        "     \\begin{pmatrix}\n",
        "     1 & 2 & 3 \\\\\n",
        "     0 & -3 & -6 \\\\\n",
        "     7 & 8 & 9\n",
        "     \\end{pmatrix}.\n",
        "     $$\n",
        "\n",
        "   - Subtract 7 times the first row from the third row ($R_3 \\to R_3 - 7R_1$):\n",
        "     $$ \\mathbf{B} =\n",
        "     \\begin{pmatrix}\n",
        "     1 & 2 & 3 \\\\\n",
        "     0 & -3 & -6 \\\\\n",
        "     0 & -6 & -12\n",
        "     \\end{pmatrix}.\n",
        "     $$\n",
        "\n",
        "   - Divide the second row by $-3$ to simplify $B_{22}$ to 1 ($R_2 \\to \\frac{R_2}{-3}$):\n",
        "     $$ \\mathbf{B} =\n",
        "     \\begin{pmatrix}\n",
        "     1 & 2 & 3 \\\\\n",
        "     0 & 1 & 2 \\\\\n",
        "     0 & -6 & -12\n",
        "     \\end{pmatrix}.\n",
        "     $$\n",
        "\n",
        "   - Add 6 times the second row to the third row ($R_3 \\to R_3 + 6R_2$):\n",
        "     $$ \\mathbf{B} =\n",
        "     \\begin{pmatrix}\n",
        "     1 & 2 & 3 \\\\\n",
        "     0 & 1 & 2 \\\\\n",
        "     0 & 0 & 0\n",
        "     \\end{pmatrix}.\n",
        "     $$\n",
        "\n",
        "2. The matrix is now in upper triangular form. The determinant is the product of the diagonal elements:\n",
        "   $$ \\text{det}(\\mathbf{B}) = 1 \\cdot 1 \\cdot 0 = 0. $$\n",
        "\n",
        "### Final Results:\n",
        "- $$ \\text{det}(\\mathbf{A}) = \\frac{1}{2} $$\n",
        "- $$ \\text{det}(\\mathbf{B}) = 0 $$\n"
      ],
      "metadata": {
        "id": "kp4YQC-QA6P9"
      }
    }
  ]
}