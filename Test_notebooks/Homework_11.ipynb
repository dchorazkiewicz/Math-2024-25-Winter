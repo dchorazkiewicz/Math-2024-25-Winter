{
  "nbformat": 4,
  "nbformat_minor": 0,
  "metadata": {
    "colab": {
      "provenance": [],
      "authorship_tag": "ABX9TyMrDtq11N/mrdFFJEQGPwtX",
      "include_colab_link": true
    },
    "kernelspec": {
      "name": "python3",
      "display_name": "Python 3"
    },
    "language_info": {
      "name": "python"
    }
  },
  "cells": [
    {
      "cell_type": "markdown",
      "metadata": {
        "id": "view-in-github",
        "colab_type": "text"
      },
      "source": [
        "<a href=\"https://colab.research.google.com/github/Erencan2005/Math-2024-25-Winter/blob/main/Test_notebooks/Homework_11.ipynb\" target=\"_parent\"><img src=\"https://colab.research.google.com/assets/colab-badge.svg\" alt=\"Open In Colab\"/></a>"
      ]
    },
    {
      "cell_type": "markdown",
      "source": [
        "## 11. Vectors I"
      ],
      "metadata": {
        "id": "NZa0VvgQKKGy"
      }
    },
    {
      "cell_type": "markdown",
      "source": [
        "## Vector Calculations\n",
        "\n",
        "---\n",
        "\n",
        "### 1. Normalize vector $\\mathbf{a} = [3, 4]$\n",
        "\n",
        "The length of vector $\\mathbf{a}$ is:\n",
        "$$\n",
        "\\|\\mathbf{a}\\| = \\sqrt{3^2 + 4^2} = \\sqrt{9 + 16} = 5.\n",
        "$$\n",
        "\n",
        "To normalize $\\mathbf{a}$, multiply it by $\\frac{1}{\\|\\mathbf{a}\\|}$. The required scalar is:\n",
        "$$\n",
        "k = \\frac{1}{\\|\\mathbf{a}\\|} = \\frac{1}{5}.\n",
        "$$\n",
        "\n",
        "---\n",
        "\n",
        "### 2. Length and unit vector of $\\mathbf{b} = [1, 1]$\n",
        "\n",
        "The length of vector $\\mathbf{b}$ is:\n",
        "$$\n",
        "\\|\\mathbf{b}\\| = \\sqrt{1^2 + 1^2} = \\sqrt{1 + 1} = \\sqrt{2}.\n",
        "$$\n",
        "\n",
        "The unit vector of $\\mathbf{b}$ is:\n",
        "$$\n",
        "\\mathbf{\\hat{b}} = \\frac{\\mathbf{b}}{\\|\\mathbf{b}\\|} = \\frac{1}{\\sqrt{2}}[1, 1] = \\left[\\frac{1}{\\sqrt{2}}, \\frac{1}{\\sqrt{2}}\\right].\n",
        "$$\n",
        "\n",
        "---\n",
        "\n",
        "### 3. Plot of $\\mathbf{b}$ and its unit vector\n",
        "\n",
        "#### Instructions for plotting:\n",
        "- Plot $\\mathbf{b} = [1, 1]$ as a vector starting from the origin.\n",
        "- Plot the unit vector $\\mathbf{\\hat{b}} = \\left[\\frac{1}{\\sqrt{2}}, \\frac{1}{\\sqrt{2}}\\right]$ starting from the origin, scaled appropriately.\n",
        "\n",
        "---\n",
        "\n",
        "### 4. Length and unit vector of $\\mathbf{c} = [1, 2, 3]$\n",
        "\n",
        "The length of vector $\\mathbf{c}$ is:\n",
        "$$\n",
        "\\|\\mathbf{c}\\| = \\sqrt{1^2 + 2^2 + 3^2} = \\sqrt{1 + 4 + 9} = \\sqrt{14}.\n",
        "$$\n",
        "\n",
        "The unit vector of $\\mathbf{c}$ is:\n",
        "$$\n",
        "\\mathbf{\\hat{c}} = \\frac{\\mathbf{c}}{\\|\\mathbf{c}\\|} = \\frac{1}{\\sqrt{14}}[1, 2, 3] = \\left[\\frac{1}{\\sqrt{14}}, \\frac{2}{\\sqrt{14}}, \\frac{3}{\\sqrt{14}}\\right].\n",
        "$$\n",
        "\n",
        "---\n",
        "\n",
        "### 5. Cartesian coordinates of vector $\\mathbf{v} = [2, 3, 4]$ in basis $\\{\\mathbf{b_1}, \\mathbf{b_2}, \\mathbf{b_3}\\}$\n",
        "\n",
        "The basis vectors are:\n",
        "$$\n",
        "\\mathbf{b_1} = [1, 0, 1], \\quad \\mathbf{b_2} = [0, 1, 0], \\quad \\mathbf{b_3} = [1, 0, -1].\n",
        "$$\n",
        "\n",
        "The goal is to express $\\mathbf{v} = [2, 3, 4]$ as:\n",
        "$$\n",
        "\\mathbf{v} = x_1\\mathbf{b_1} + x_2\\mathbf{b_2} + x_3\\mathbf{b_3}.\n",
        "$$\n",
        "\n",
        "Write the system of equations:\n",
        "$$\n",
        "\\begin{cases}\n",
        "x_1 + x_3 = 2, \\\\\n",
        "x_2 = 3, \\\\\n",
        "x_1 - x_3 = 4.\n",
        "\\end{cases}\n",
        "$$\n",
        "\n",
        "Solve for $x_1$, $x_2$, and $x_3$:\n",
        "- From the first and third equations:\n",
        "$$\n",
        "x_1 + x_3 = 2, \\quad x_1 - x_3 = 4.\n",
        "$$\n",
        "Add the equations:\n",
        "$$\n",
        "2x_1 = 6 \\quad \\Rightarrow \\quad x_1 = 3.\n",
        "$$\n",
        "Subtract the equations:\n",
        "$$\n",
        "2x_3 = -2 \\quad \\Rightarrow \\quad x_3 = -1.\n",
        "$$\n",
        "\n",
        "- From the second equation:\n",
        "$$\n",
        "x_2 = 3.\n",
        "$$\n",
        "\n",
        "Thus, the coordinates of $\\mathbf{v}$ in the basis $\\{\\mathbf{b_1}, \\mathbf{b_2}, \\mathbf{b_3}\\}$ are:\n",
        "$$\n",
        "(x_1, x_2, x_3) = (3, 3, -1).\n",
        "$$\n",
        "\n",
        "---\n"
      ],
      "metadata": {
        "id": "b40TXsTmKgO3"
      }
    }
  ]
}