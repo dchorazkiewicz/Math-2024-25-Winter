{
  "nbformat": 4,
  "nbformat_minor": 0,
  "metadata": {
    "colab": {
      "provenance": [],
      "authorship_tag": "ABX9TyOGr+6o65wd9xpzv450lzqD",
      "include_colab_link": true
    },
    "kernelspec": {
      "name": "python3",
      "display_name": "Python 3"
    },
    "language_info": {
      "name": "python"
    }
  },
  "cells": [
    {
      "cell_type": "markdown",
      "metadata": {
        "id": "view-in-github",
        "colab_type": "text"
      },
      "source": [
        "<a href=\"https://colab.research.google.com/github/Erencan2005/Math-2024-25-Winter/blob/main/Notebooks_EN/02_Analytic_Geometry/08_Second_Order_Surfaces/Homework_17.ipynb\" target=\"_parent\"><img src=\"https://colab.research.google.com/assets/colab-badge.svg\" alt=\"Open In Colab\"/></a>"
      ]
    },
    {
      "cell_type": "markdown",
      "source": [
        "## 17. Equations of second-order surfaces"
      ],
      "metadata": {
        "id": "GYWO7ULeQqe7"
      }
    },
    {
      "cell_type": "code",
      "source": [
        "import sympy as sp\n",
        "\n",
        "# 1. Equation of a sphere with center P(1,2,3) and radius r=3\n",
        "x, y, z = sp.symbols('x y z')\n",
        "center = sp.Matrix([1, 2, 3])\n",
        "radius = 3\n",
        "sphere_eq = (x - center[0])**2 + (y - center[1])**2 + (z - center[2])**2 - radius**2\n",
        "print(\"Equation of the sphere:\", sphere_eq)\n",
        "\n",
        "# 2. Do the spheres x^2 + y^2 + z^2 = 1 and x^2 + y^2 + z^2 = 2 have any common points?\n",
        "sphere1_eq = x**2 + y**2 + z**2 - 1\n",
        "sphere2_eq = x**2 + y**2 + z**2 - 2\n",
        "\n",
        "# Solve the system of equations\n",
        "intersection_points = sp.solve([sphere1_eq, sphere2_eq], (x, y, z))\n",
        "if intersection_points:\n",
        "    print(\"The spheres have common points at:\", intersection_points)\n",
        "else:\n",
        "    print(\"The spheres do not have any common points.\")\n",
        "\n",
        "# 3. Find the curve formed by the intersection of the sphere x^2 + y^2 + z^2 = 1 with the sphere (x-1)^2 + y^2 + z^2 = 1\n",
        "sphere3_eq = (x - 1)**2 + y**2 + z**2 - 1\n",
        "\n",
        "# Solve the system of equations for the intersection\n",
        "curve_eq = sp.solve([sphere1_eq, sphere3_eq], (x, y, z))\n",
        "print(\"The equation of the curve formed by the intersection is:\", curve_eq)\n",
        "\n",
        "# 4. Equation of the tangent plane to the paraboloid z = (x-1)^2 + y^2 + 1 at point P(1, 0, 1)\n",
        "z_eq = (x - 1)**2 + y**2 + 1\n",
        "\n",
        "# Compute the partial derivatives of z with respect to x and y\n",
        "partial_x = sp.diff(z_eq, x)\n",
        "partial_y = sp.diff(z_eq, y)\n",
        "\n",
        "# Tangent plane equation: z - z0 = fx(x0, y0)(x - x0) + fy(x0, y0)(y - y0)\n",
        "tangent_plane_eq = (z - 1) - partial_x.subs({x: 1, y: 0}) * (x - 1) - partial_y.subs({x: 1, y: 0}) * (y - 0)\n",
        "print(\"Equation of the tangent plane to the paraboloid:\", tangent_plane_eq)\n"
      ],
      "metadata": {
        "id": "AkyDvELDQ11E"
      },
      "execution_count": null,
      "outputs": []
    },
    {
      "cell_type": "markdown",
      "source": [
        "1. Write the equation of a sphere with center at point $P=(1,2,3)$ and radius $r=3$.\n",
        "\n",
        "The general equation of a sphere with center $(h, k, l)$ and radius $r$ is:\n",
        "$$\n",
        "(x - h)^2 + (y - k)^2 + (z - l)^2 = r^2\n",
        "$$\n",
        "For the center $P = (1, 2, 3)$ and radius $r = 3$, the equation of the sphere is:\n",
        "$$\n",
        "(x - 1)^2 + (y - 2)^2 + (z - 3)^2 = 9\n",
        "$$\n",
        "\n",
        "2. Do the spheres with equations $x^2 + y^2 + z^2 = 1$ and $x^2 + y^2 + z^2 = 2$ have any common points?\n",
        "\n",
        "To determine if the spheres intersect, consider their equations:\n",
        "- Sphere 1: $x^2 + y^2 + z^2 = 1$\n",
        "- Sphere 2: $x^2 + y^2 + z^2 = 2$\n",
        "\n",
        "Subtracting the first equation from the second:\n",
        "$$\n",
        "(x^2 + y^2 + z^2) - (x^2 + y^2 + z^2) = 2 - 1\n",
        "$$\n",
        "This simplifies to:\n",
        "$$\n",
        "0 = 1\n",
        "$$\n",
        "which is a contradiction. Therefore, the spheres do not have any common points.\n",
        "\n",
        "3. What curve in space is formed by the intersection of the sphere $x^2 + y^2 + z^2 = 1$ with the sphere $(x-1)^2 + y^2 + z^2 = 1$? Find the equation of this curve.\n",
        "\n",
        "The intersection of the two spheres forms a circle. To find the equation of this circle, first subtract the equation of the second sphere from the first:\n",
        "$$\n",
        "(x^2 + y^2 + z^2) - \\left((x-1)^2 + y^2 + z^2\\right) = 0\n",
        "$$\n",
        "Expanding the second sphere:\n",
        "$$\n",
        "(x^2 + y^2 + z^2) - \\left(x^2 - 2x + 1 + y^2 + z^2\\right) = 0\n",
        "$$\n",
        "Simplifying:\n",
        "$$\n",
        "x^2 + y^2 + z^2 - x^2 + 2x - 1 - y^2 - z^2 = 0\n",
        "$$\n",
        "$$\n",
        "2x - 1 = 0\n",
        "$$\n",
        "Thus, $x = \\frac{1}{2}$. Substituting $x = \\frac{1}{2}$ into the equation of the first sphere:\n",
        "$$\n",
        "\\left(\\frac{1}{2}\\right)^2 + y^2 + z^2 = 1\n",
        "$$\n",
        "$$\n",
        "\\frac{1}{4} + y^2 + z^2 = 1\n",
        "$$\n",
        "$$\n",
        "y^2 + z^2 = \\frac{3}{4}\n",
        "$$\n",
        "Therefore, the equation of the curve of intersection is:\n",
        "$$\n",
        "x = \\frac{1}{2}, \\quad y^2 + z^2 = \\frac{3}{4}\n",
        "$$\n",
        "which represents a circle in the plane $x = \\frac{1}{2}$ with radius $\\frac{\\sqrt{3}}{2}$.\n",
        "\n",
        "4. Write the equation of the tangent plane to the paraboloid $z = (x-1)^2 + y^2 + 1$ at point $P(1, 0, 1)$.\n",
        "\n",
        "The equation of the tangent plane to a surface $z = f(x, y)$ at a point $(x_0, y_0, z_0)$ is given by:\n",
        "$$\n",
        "z - z_0 = \\frac{\\partial f}{\\partial x}(x_0, y_0)(x - x_0) + \\frac{\\partial f}{\\partial y}(x_0, y_0)(y - y_0)\n",
        "$$\n",
        "The surface is $z = (x-1)^2 + y^2 + 1$, so:\n",
        "$$\n",
        "f(x, y) = (x-1)^2 + y^2 + 1\n",
        "$$\n",
        "Now compute the partial derivatives:\n",
        "$$\n",
        "\\frac{\\partial f}{\\partial x} = 2(x - 1), \\quad \\frac{\\partial f}{\\partial y} = 2y\n",
        "$$\n",
        "At the point $P(1, 0, 1)$:\n",
        "$$\n",
        "\\frac{\\partial f}{\\partial x}(1, 0) = 2(1 - 1) = 0, \\quad \\frac{\\partial f}{\\partial y}(1, 0) = 2(0) = 0\n",
        "$$\n",
        "Thus, the equation of the tangent plane is:\n",
        "$$\n",
        "z - 1 = 0 \\cdot (x - 1) + 0 \\cdot (y - 0)\n",
        "$$\n",
        "which simplifies to:\n",
        "$$\n",
        "z = 1\n",
        "$$\n",
        "Thus, the equation of the tangent plane is:\n",
        "$$\n",
        "z = 1\n",
        "$$\n"
      ],
      "metadata": {
        "id": "e5f55XTfRD9k"
      }
    }
  ]
}