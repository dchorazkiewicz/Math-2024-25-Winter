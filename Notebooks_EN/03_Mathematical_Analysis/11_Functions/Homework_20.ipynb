{
  "nbformat": 4,
  "nbformat_minor": 0,
  "metadata": {
    "colab": {
      "provenance": [],
      "authorship_tag": "ABX9TyPMGLQXR7KIdOaUbBTiKgtl",
      "include_colab_link": true
    },
    "kernelspec": {
      "name": "python3",
      "display_name": "Python 3"
    },
    "language_info": {
      "name": "python"
    }
  },
  "cells": [
    {
      "cell_type": "markdown",
      "metadata": {
        "id": "view-in-github",
        "colab_type": "text"
      },
      "source": [
        "<a href=\"https://colab.research.google.com/github/Erencan2005/Math-2024-25-Winter/blob/main/Notebooks_EN/03_Mathematical_Analysis/11_Functions/Homework_20.ipynb%20\" target=\"_parent\"><img src=\"https://colab.research.google.com/assets/colab-badge.svg\" alt=\"Open In Colab\"/></a>"
      ]
    },
    {
      "cell_type": "markdown",
      "source": [
        "## 20. Limits of Real Functions"
      ],
      "metadata": {
        "id": "FBTQa_ofSehy"
      }
    },
    {
      "cell_type": "markdown",
      "source": [
        "1. Compute:\n",
        "\n",
        "   - $\\displaystyle\\lim_{x \\to \\infty} \\frac{x^3 + 2x^2}{x^4 - 3x^3}$\n",
        "\n",
        "   To compute this limit, divide both the numerator and the denominator by $x^4$:\n",
        "   $$\n",
        "   \\lim_{x \\to \\infty} \\frac{x^3 + 2x^2}{x^4 - 3x^3} = \\lim_{x \\to \\infty} \\frac{\\frac{x^3}{x^4} + \\frac{2x^2}{x^4}}{\\frac{x^4}{x^4} - \\frac{3x^3}{x^4}} = \\lim_{x \\to \\infty} \\frac{\\frac{1}{x} + \\frac{2}{x^2}}{1 - \\frac{3}{x}} = \\frac{0 + 0}{1 - 0} = 0\n",
        "   $$\n",
        "\n",
        "2. Find:\n",
        "\n",
        "   - $\\displaystyle \\lim_{x \\to 0} \\frac{\\sin(3x)}{2x + 1}$\n",
        "\n",
        "   Using the fact that $\\lim_{x \\to 0} \\frac{\\sin(3x)}{3x} = 1$, we can write:\n",
        "   $$\n",
        "   \\lim_{x \\to 0} \\frac{\\sin(3x)}{2x + 1} = \\frac{\\lim_{x \\to 0} \\sin(3x)}{\\lim_{x \\to 0} (2x + 1)} = \\frac{0}{1} = 0\n",
        "   $$\n",
        "\n",
        "4. Find the asymptotes of the function:\n",
        "\n",
        "   - $f(x) = \\frac{x^2 - 1}{x^2 + 1}$\n",
        "\n",
        "   As $x \\to \\infty$, the degree of the numerator and denominator is the same, so we can compute the limit:\n",
        "   $$\n",
        "   \\lim_{x \\to \\infty} \\frac{x^2 - 1}{x^2 + 1} = \\lim_{x \\to \\infty} \\frac{x^2(1 - \\frac{1}{x^2})}{x^2(1 + \\frac{1}{x^2})} = \\frac{1 - 0}{1 + 0} = 1\n",
        "   $$\n",
        "   Therefore, the horizontal asymptote is $y = 1$.\n",
        "\n",
        "   - $g(x) = \\frac{\\sin(x)}{x^2 + 1}$\n",
        "\n",
        "   As $x \\to \\infty$, we know that $\\sin(x)$ oscillates between $-1$ and $1$, while $x^2 + 1$ grows without bound. Hence, the function tends to $0$:\n",
        "   $$\n",
        "   \\lim_{x \\to \\infty} \\frac{\\sin(x)}{x^2 + 1} = 0\n",
        "   $$\n",
        "   Therefore, the horizontal asymptote is $y = 0$.\n",
        "\n"
      ],
      "metadata": {
        "id": "FBYUV9lRSs-J"
      }
    },
    {
      "cell_type": "code",
      "source": [
        "import sympy as sp\n",
        "\n",
        "# 1. Compute the limit: lim (x -> infinity) (x^3 + 2x^2) / (x^4 - 3x^3)\n",
        "x = sp.symbols('x')\n",
        "func_1 = (x**3 + 2*x**2) / (x**4 - 3*x**3)\n",
        "limit_1 = sp.limit(func_1, x, sp.oo)\n",
        "print(\"Limit 1: lim (x -> infinity) (x^3 + 2x^2) / (x^4 - 3x^3) =\", limit_1)\n",
        "\n",
        "# 2. Compute the limit: lim (x -> 0) sin(3x) / (2x + 1)\n",
        "func_2 = sp.sin(3*x) / (2*x + 1)\n",
        "limit_2 = sp.limit(func_2, x, 0)\n",
        "print(\"Limit 2: lim (x -> 0) sin(3x) / (2x + 1) =\", limit_2)\n",
        "\n",
        "# 3. Asymptotes of the function f(x) = (x^2 - 1) / (x^2 + 1)\n",
        "f_x = (x**2 - 1) / (x**2 + 1)\n",
        "\n",
        "# Vertical asymptotes: check where the denominator is 0\n",
        "vertical_asymptotes_f = sp.solve(x**2 + 1, x)\n",
        "\n",
        "# Horizontal asymptote: limit as x -> infinity\n",
        "horizontal_asymptote_f = sp.limit(f_x, x, sp.oo)\n",
        "print(\"Asymptotes of f(x) = (x^2 - 1) / (x^2 + 1):\")\n",
        "print(\"Vertical Asymptotes:\", vertical_asymptotes_f)\n",
        "print(\"Horizontal Asymptote:\", horizontal_asymptote_f)\n",
        "\n",
        "# 4. Asymptotes of the function g(x) = sin(x) / (x^2 + 1)\n",
        "g_x = sp.sin(x) / (x**2 + 1)\n",
        "\n",
        "# Vertical asymptotes: check where the denominator is 0\n",
        "vertical_asymptotes_g = sp.solve(x**2 + 1, x)\n",
        "\n",
        "# Horizontal asymptote: limit as x -> infinity\n",
        "horizontal_asymptote_g = sp.limit(g_x, x, sp.oo)\n",
        "print(\"Asymptotes of g(x) = sin(x) / (x^2 + 1):\")\n",
        "print(\"Vertical Asymptotes:\", vertical_asymptotes_g)\n",
        "print(\"Horizontal Asymptote:\", horizontal_asymptote_g)\n"
      ],
      "metadata": {
        "colab": {
          "base_uri": "https://localhost:8080/"
        },
        "id": "8B40sXRLS7md",
        "outputId": "75d9bfef-4396-4dcf-9752-208653ba4f23"
      },
      "execution_count": 1,
      "outputs": [
        {
          "output_type": "stream",
          "name": "stdout",
          "text": [
            "Limit 1: lim (x -> infinity) (x^3 + 2x^2) / (x^4 - 3x^3) = 0\n",
            "Limit 2: lim (x -> 0) sin(3x) / (2x + 1) = 0\n",
            "Asymptotes of f(x) = (x^2 - 1) / (x^2 + 1):\n",
            "Vertical Asymptotes: [-I, I]\n",
            "Horizontal Asymptote: 1\n",
            "Asymptotes of g(x) = sin(x) / (x^2 + 1):\n",
            "Vertical Asymptotes: [-I, I]\n",
            "Horizontal Asymptote: 0\n"
          ]
        }
      ]
    }
  ]
}
