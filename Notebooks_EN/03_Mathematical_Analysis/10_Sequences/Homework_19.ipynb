{
  "nbformat": 4,
  "nbformat_minor": 0,
  "metadata": {
    "colab": {
      "provenance": [],
      "authorship_tag": "ABX9TyP5nL8RTDVOkc8WA/3bhMHV",
      "include_colab_link": true
    },
    "kernelspec": {
      "name": "python3",
      "display_name": "Python 3"
    },
    "language_info": {
      "name": "python"
    }
  },
  "cells": [
    {
      "cell_type": "markdown",
      "metadata": {
        "id": "view-in-github",
        "colab_type": "text"
      },
      "source": [
        "<a href=\"https://colab.research.google.com/github/Erencan2005/Math-2024-25-Winter/blob/main/Notebooks_EN/03_Mathematical_Analysis/10_Sequences/Homework_19.ipynb%20\" target=\"_parent\"><img src=\"https://colab.research.google.com/assets/colab-badge.svg\" alt=\"Open In Colab\"/></a>"
      ]
    },
    {
      "cell_type": "markdown",
      "source": [
        "## 19. Limits of Sequences"
      ],
      "metadata": {
        "id": "qfZ3cvN3RYqw"
      }
    },
    {
      "cell_type": "markdown",
      "source": [
        "1. Calculate:\n",
        "\n",
        "   - $\\displaystyle \\lim_{n \\to \\infty} \\frac{n^2 + 3n}{2 n^2 - 2n}$\n",
        "\n",
        "   To compute this limit, divide both the numerator and the denominator by $n^2$:\n",
        "   $$\n",
        "   \\lim_{n \\to \\infty} \\frac{n^2 + 3n}{2n^2 - 2n} = \\lim_{n \\to \\infty} \\frac{1 + \\frac{3}{n}}{2 - \\frac{2}{n}} = \\frac{1 + 0}{2 - 0} = \\frac{1}{2}\n",
        "   $$\n",
        "\n",
        "   - $\\displaystyle \\lim_{n \\to \\infty} \\frac{(2n+3)^3}{n^3 - 1}$\n",
        "\n",
        "   Expand the numerator:\n",
        "   $$\n",
        "   (2n + 3)^3 = 8n^3 + 12n^2 + 18n + 27\n",
        "   $$\n",
        "   Thus, the limit becomes:\n",
        "   $$\n",
        "   \\lim_{n \\to \\infty} \\frac{8n^3 + 12n^2 + 18n + 27}{n^3 - 1}\n",
        "   $$\n",
        "   Divide both the numerator and the denominator by $n^3$:\n",
        "   $$\n",
        "   \\lim_{n \\to \\infty} \\frac{8 + \\frac{12}{n} + \\frac{18}{n^2} + \\frac{27}{n^3}}{1 - \\frac{1}{n^3}} = \\frac{8 + 0 + 0 + 0}{1 - 0} = 8\n",
        "   $$\n",
        "\n",
        "2. Prove using the squeeze theorem:\n",
        "\n",
        "   - $\\displaystyle\\lim_{n \\to \\infty} \\frac{\\sin(n)}{n}$\n",
        "\n",
        "   We know that $|\\sin(n)| \\leq 1$ for all $n$. Therefore, we can apply the squeeze theorem:\n",
        "   $$\n",
        "   -\\frac{1}{n} \\leq \\frac{\\sin(n)}{n} \\leq \\frac{1}{n}\n",
        "   $$\n",
        "   As $n \\to \\infty$, both $-\\frac{1}{n}$ and $\\frac{1}{n}$ tend to 0. Hence, by the squeeze theorem:\n",
        "   $$\n",
        "   \\lim_{n \\to \\infty} \\frac{\\sin(n)}{n} = 0\n",
        "   $$\n",
        "\n",
        "4. Find the limit of the sequence:\n",
        "\n",
        "   - $a_n = \\left( 1 + \\frac{1}{n} \\right)^n$\n",
        "\n",
        "   This is a well-known limit that approaches $e$ as $n \\to \\infty$. Specifically:\n",
        "   $$\n",
        "   \\lim_{n \\to \\infty} \\left( 1 + \\frac{1}{n} \\right)^n = e\n",
        "   $$\n",
        "\n"
      ],
      "metadata": {
        "id": "kft4bToMRaO9"
      }
    },
    {
      "cell_type": "code",
      "source": [
        "import sympy as sp\n",
        "\n",
        "# 1. Calculate the limits\n",
        "n = sp.symbols('n')\n",
        "\n",
        "# First limit: lim (n -> infinity) (n^2 + 3n) / (2n^2 - 2n)\n",
        "sequence_1 = (n**2 + 3*n) / (2*n**2 - 2*n)\n",
        "limit_1 = sp.limit(sequence_1, n, sp.oo)\n",
        "print(\"Limit 1: lim (n -> infinity) (n^2 + 3n) / (2n^2 - 2n) =\", limit_1)\n",
        "\n",
        "# Second limit: lim (n -> infinity) ((2n + 3)^3) / (n^3 - 1)\n",
        "sequence_2 = ((2*n + 3)**3) / (n**3 - 1)\n",
        "limit_2 = sp.limit(sequence_2, n, sp.oo)\n",
        "print(\"Limit 2: lim (n -> infinity) ((2n + 3)^3) / (n^3 - 1) =\", limit_2)\n",
        "\n",
        "# 2. Prove using the squeeze theorem: lim (n -> infinity) sin(n) / n\n",
        "# We know that -1 <= sin(n) <= 1, so we can apply the squeeze theorem\n",
        "\n",
        "# Sequence: sin(n) / n\n",
        "sequence_3 = sp.sin(n) / n\n",
        "upper_bound = 1 / n\n",
        "lower_bound = -1 / n\n",
        "\n",
        "# Apply the squeeze theorem\n",
        "squeeze_limit = sp.limit(sequence_3, n, sp.oo)\n",
        "print(\"Limit using the squeeze theorem: lim (n -> infinity) sin(n) / n =\", squeeze_limit)\n",
        "\n",
        "# 4. Find the limit of the sequence a_n = (1 + 1/n)^n\n",
        "a_n = (1 + 1/n)**n\n",
        "limit_a_n = sp.limit(a_n, n, sp.oo)\n",
        "print(\"Limit of the sequence a_n = (1 + 1/n)^n as n -> infinity:\", limit_a_n)\n"
      ],
      "metadata": {
        "id": "uBnOnUSKSBWZ"
      },
      "execution_count": null,
      "outputs": []
    }
  ]
}
